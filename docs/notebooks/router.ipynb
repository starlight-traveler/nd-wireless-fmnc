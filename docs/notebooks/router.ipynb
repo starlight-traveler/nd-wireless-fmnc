{
 "cells": [
  {
   "cell_type": "markdown",
   "metadata": {},
   "source": [
    "# Getting Started On Mac\n",
    "\n",
    "> The setup for the NDAIMM Main LPV computer program involves establishing a minimal coding environment essential for compiling its main computer application. This setup typically includes installing necessary compilers, libraries, and a version control system to manage the source code efficiently. Additionally, it's crucial to configure the development environment according to the specific requirements of the NDAIMM program to ensure compatibility and performance.\n",
    "\n",
    "```{important}\n",
    "You must follow all of the steps within this article, if you do not yet understand what you are doing, complete the minimum coding environment and move on to further pages.\n",
    "```\n"
   ]
  },
  {
   "cell_type": "markdown",
   "metadata": {},
   "source": [
    "## Setting up the Repository\n",
    "\n",
    "The repositories are hosted on publicly accessible GitHub servers. The structure consists of a master repository where all Notre Dame AIMM code is stored, with “submodules” as additional repositories linked to other GitHub repositories. You don't need to know the exact details at this point; just make sure you have Git installed and clone the main repository:"
   ]
  },
  {
   "cell_type": "code",
   "execution_count": null,
   "metadata": {
    "vscode": {
     "languageId": "plaintext"
    }
   },
   "outputs": [],
   "source": [
    "$ git clone https://github.com/starlight-traveler/nd-aimm.git"
   ]
  },
  {
   "cell_type": "markdown",
   "metadata": {},
   "source": [
    "Once finished you will notice that you don't actually have any data within the submodules! These submodules are separate GitHub repositories and need to be explicitly pulled. Run the following commands:"
   ]
  },
  {
   "cell_type": "code",
   "execution_count": null,
   "metadata": {
    "vscode": {
     "languageId": "plaintext"
    }
   },
   "outputs": [],
   "source": [
    "$ cd nd-aimm\n",
    "$ git submodule update --init --recursive"
   ]
  },
  {
   "cell_type": "markdown",
   "metadata": {},
   "source": [
    "This will update the submodules and pull in all necessary data. Note that committing changes inside a submodule, for instance in nd-aimm-main-computer, and pushing to its remote will update that repository, but not the main nd-aimm repository. A CI/CD cron job updates the main repository daily, but you can manually update it by committing and pushing to the main branch in the nd-aimm directory or by pulling the latest changes.\n",
    "\n",
    "```{tip}\n",
    "The main repository does not need frequent updates as it primarily serves as a central hub for all submodules, rather than as a point for external pushes.\n",
    "```"
   ]
  },
  {
   "cell_type": "markdown",
   "metadata": {},
   "source": [
    "## Pulling In Dependencies\n",
    "\n",
    "After cloning all repositories and their respective submodules, you need to navigate into the nd-aimm-main-computer directory to explore the files. Use the command ls to list all available files in this directory. The key files you should focus on are ./CREATE and ./AIMM. The CREATE file is particularly important as it contains the build script for the entire main computer project.\n",
    "\n",
    "```{info}\n",
    "For those interested in learning more about shell scripting with bash, zsh, etc., you can open **CREATE** or **AIMM** in a text editor. These files contain various functions that can provide insight into scripting techniques and practices.\n",
    "```\n",
    "\n",
    "To proceed, you must set up the necessary dependencies to build and run the project on your Unix distribution. The project lead will strive to keep the list of dependencies current, but there may be occasions where you need to investigate and resolve issues if a repository doesn't integrate seamlessly.\n",
    "\n",
    "The project relies on package managers to install the required system dependencies. For macOS, **brew** is used, while **apt** is utilized for many other Unix-based systems. If you are on a macOS system and do not have brew installed, the script will prompt you to install it.\n",
    "\n",
    "\n",
    "Run the following command in order to install the dependencies:"
   ]
  },
  {
   "cell_type": "code",
   "execution_count": null,
   "metadata": {
    "vscode": {
     "languageId": "plaintext"
    }
   },
   "outputs": [],
   "source": [
    "$ ./CREATE --install-dependencies"
   ]
  },
  {
   "cell_type": "markdown",
   "metadata": {},
   "source": [
    "This should pull all the necessary dependencies and build the project. If there are any issues with yout build system or you are using a non-standard manager such as **yum**, please ask for help."
   ]
  },
  {
   "cell_type": "markdown",
   "metadata": {},
   "source": [
    "## Building Earthly\n",
    "\n",
    "Earthly is a docker based implementation that will take the root directory of the current repository, bring it into an Ubunutu 22.04 docker container, build it, then export the artifacts out of the container, and then collapse the container all within a single command. The default build script for nd-aimm-main-computer is to build with Earthly, given that for many either running Windows or their own customized Unix distribution and not wanting to install packages on their home system, this will containerize the build enviornment.\n",
    "\n",
    "```{warning}\n",
    "Since this is compiling within an Ubuntu 22.04 docker container, if you try to run the AIMM artificant that gets exported it will fail, given that it wasn't compiled likely for the operating system you are currently running. See the **Building Natively** section if interested in building a project that can run on your home enviornment (there are extra steps involved for Windows users).\n",
    "```\n",
    "\n",
    "Earthly should have been installed with the above script, and you can check that by simple typing *earthly* into your command line. The second thing you will need that can not be installed through CLI or package manaers, is the Docker Dameon. This will need to be installed through their official website:\n",
    "\n",
    "[Docker Dameon](https://www.docker.com/products/docker-desktop/)\n",
    "\n",
    "Go to the website above and install it for your operating system. Once you have installed it, you must log in to the GUI interface to create an account. Once done in the directory where the main files are that you cloned, type the following:"
   ]
  },
  {
   "cell_type": "code",
   "execution_count": null,
   "metadata": {
    "vscode": {
     "languageId": "plaintext"
    }
   },
   "outputs": [],
   "source": [
    "$ ./CREATE"
   ]
  },
  {
   "cell_type": "markdown",
   "metadata": {},
   "source": [
    "```{info}\n",
    "If an error occurs regarding not being able to pull down the LTS, you have not properly logged into the Docker Dameon. If unable, please ask for help!\n",
    "```"
   ]
  },
  {
   "cell_type": "markdown",
   "metadata": {},
   "source": [
    "## Building Natively"
   ]
  },
  {
   "cell_type": "markdown",
   "metadata": {},
   "source": [
    "Building the AIMM project natively is supported on all operating systems. \n",
    "\n",
    "All the dependencies for Unix and Darwin (MacOS) should have been installed via **brew** and **apt** regarding the installation instructions above. You can verify this, but running the install dependecy check again. Once done, simply type the following command to build it natively:"
   ]
  },
  {
   "cell_type": "code",
   "execution_count": null,
   "metadata": {
    "vscode": {
     "languageId": "plaintext"
    }
   },
   "outputs": [],
   "source": [
    "$ ./CREATE --project-build"
   ]
  },
  {
   "cell_type": "markdown",
   "metadata": {},
   "source": [
    "```{seealso}\n",
    "Running the `CREATE` script with the argument -h or --help will display the help message. If you want to append *-r* for instance after *--project-build*, it will run the project build in release mode.\n",
    "```"
   ]
  },
  {
   "cell_type": "markdown",
   "metadata": {},
   "source": [
    "After building the project successfuly and without any further arugments, you can simply run:"
   ]
  },
  {
   "cell_type": "code",
   "execution_count": null,
   "metadata": {
    "vscode": {
     "languageId": "plaintext"
    }
   },
   "outputs": [],
   "source": [
    "$ ./AIMM"
   ]
  },
  {
   "cell_type": "markdown",
   "metadata": {},
   "source": [
    "That should run the exectubale found in the **/build** directory. Of note, there are alot of issues that can occur regarding dependencies and build enviornments. You must try debugging first to see if it is an issue that is easily solveable on your end, if it isn't please contact the others in the development team who can help regarding making the build system run natively.\n",
    "\n",
    "```{important}\n",
    "When building on the actual AIMM main computer, the project is always build in RELEASE mode and never in EARTHLY, this is to reduce the vector that can be caused by errors.\n",
    "```"
   ]
  }
 ],
 "metadata": {
  "language_info": {
   "name": "python"
  }
 },
 "nbformat": 4,
 "nbformat_minor": 2
}
