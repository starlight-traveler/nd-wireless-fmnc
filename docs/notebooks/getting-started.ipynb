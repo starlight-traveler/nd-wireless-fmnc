{
 "cells": [
  {
   "cell_type": "markdown",
   "id": "90700fdc-fcc7-4e54-8c9e-449879d8c66d",
   "metadata": {
    "tags": []
   },
   "source": [
    "# Getting Started\n",
    "\n",
    "\n",
    "> The setup for the NDAIMM Main LPV computer program involves establishing a minimal coding environment essential for compiling its main computer application. This setup typically includes installing necessary compilers, libraries, and a version control system to manage the source code efficiently. Additionally, it's crucial to configure the development environment according to the specific requirements of the NDAIMM program to ensure compatibility and performance.\n",
    "\n",
    "```{important}\n",
    "You must follow all of the steps within this article, if you do not yet understand what you are doing, complete the minimum coding environment and move on to further pages.\n",
    "```"
   ]
  },
  {
   "cell_type": "markdown",
   "id": "e0d992a6-f656-45ce-a025-f824901e8797",
   "metadata": {},
   "source": [
    "## Setting up the Repository\n",
    "\n",
    "The repositories are hosted on publicly accessible GitHub servers. The structure consists of a master repository where all Notre Dame AIMM code is stored, with “submodules” as additional repositories linked to other GitHub repositories. You don't need to know the exact details at this point; just make sure you have Git installed and clone the main repository:"
   ]
  },
  {
   "cell_type": "code",
   "execution_count": null,
   "id": "202b0439",
   "metadata": {
    "vscode": {
     "languageId": "plaintext"
    }
   },
   "outputs": [],
   "source": [
    "$ git clone https://github.com/starlight-traveler/nd-aimm.git"
   ]
  },
  {
   "cell_type": "markdown",
   "id": "07f0d900",
   "metadata": {},
   "source": [
    "Once finished you will notice that you don't actually have any data within the submodules! These submodules are separate GitHub repositories and need to be explicitly pulled. Run the following commands:"
   ]
  },
  {
   "cell_type": "code",
   "execution_count": null,
   "id": "18e6aece",
   "metadata": {
    "vscode": {
     "languageId": "plaintext"
    }
   },
   "outputs": [],
   "source": [
    "$ cd nd-aimm\n",
    "$ git submodule update --init --recursive"
   ]
  },
  {
   "cell_type": "markdown",
   "id": "63b7b325",
   "metadata": {},
   "source": [
    "This will update the submodules and pull in all necessary data. Note that committing changes inside a submodule, for instance in nd-aimm-main-computer, and pushing to its remote will update that repository, but not the main nd-aimm repository. A CI/CD cron job updates the main repository daily, but you can manually update it by committing and pushing to the main branch in the nd-aimm directory or by pulling the latest changes.\n",
    "\n",
    "```{tip}\n",
    "The main repository does not need frequent updates as it primarily serves as a central hub for all submodules, rather than as a point for external pushes.\n",
    "```"
   ]
  },
  {
   "cell_type": "markdown",
   "id": "94ca0d49",
   "metadata": {},
   "source": [
    "## Pulling In Dependencies\n",
    "\n",
    "After cloning all repositories and their respective submodules, you need to navigate into the nd-aimm-main-computer directory to explore the files. Use the command ls to list all available files in this directory. The key files you should focus on are ./CREATE and ./AIMM. The CREATE file is particularly important as it contains the build script for the entire main computer project.\n",
    "\n",
    "```{info}\n",
    "For those interested in learning more about shell scripting with bash, zsh, etc., you can open **CREATE** or **AIMM** in a text editor. These files contain various functions that can provide insight into scripting techniques and practices.\n",
    "```\n",
    "\n",
    "To proceed, you must set up the necessary dependencies to build and run the project on your Unix distribution. The project lead will strive to keep the list of dependencies current, but there may be occasions where you need to investigate and resolve issues if a repository doesn't integrate seamlessly.\n",
    "\n",
    "The project relies on package managers to install the required system dependencies. For macOS, **brew** is used, while **apt** is utilized for many other Unix-based systems. If you are on a macOS system and do not have brew installed, the script will prompt you to install it.\n",
    "\n",
    "\n",
    "Run the following command in order to install the dependencies:"
   ]
  },
  {
   "cell_type": "code",
   "execution_count": null,
   "id": "df5233a8",
   "metadata": {
    "vscode": {
     "languageId": "plaintext"
    }
   },
   "outputs": [],
   "source": [
    "$ ./CREATE --install-dependencies"
   ]
  },
  {
   "cell_type": "markdown",
   "id": "bdff08f0",
   "metadata": {},
   "source": [
    "This should pull all the necessary dependencies and build the project. If there are any issues with yout build system or you are using a non-standard manager such as **yum**, please ask for help."
   ]
  },
  {
   "cell_type": "markdown",
   "id": "5e943ebe",
   "metadata": {},
   "source": [
    "## Building Earthly\n",
    "\n",
    "Earthly is a docker based implementation that will take the root directory of the current repository, bring it into an Ubunutu 22.04 docker container, build it, then export the artifacts out of the container, and then collapse the container all within a single command. The default build script for nd-aimm-main-computer is to build with Earthly, given that for many either running Windows or their own customized Unix distribution and not wanting to install packages on their home system, this will containerize the build enviornment.\n",
    "\n",
    "```{warning}\n",
    "Since this is compiling within an Ubuntu 22.04 docker container, if you try to run the AIMM artificant that gets exported it will fail, given that it wasn't compiled likely for the operating system you are currently running. See the **Building Natively** section if interested in building a project that can run on your home enviornment (there are extra steps involved for Windows users).\n",
    "```\n",
    "\n",
    "Earthly should have been installed with the above script, and you can check that by simple typing *earthly* into your command line. The second thing you will need that can not be installed through CLI or package manaers, is the Docker Dameon. This will need to be installed through their official website:\n",
    "\n",
    "[Docker Dameon](https://www.docker.com/products/docker-desktop/)\n",
    "\n",
    "Go to the website above and install it for your operating system. Once you have installed it, you must log in to the GUI interface to create an account. Once done in the directory where the main files are that you cloned, type the following:"
   ]
  },
  {
   "cell_type": "code",
   "execution_count": null,
   "id": "2dedc07f",
   "metadata": {
    "vscode": {
     "languageId": "plaintext"
    }
   },
   "outputs": [],
   "source": [
    "$ ./CREATE"
   ]
  },
  {
   "cell_type": "markdown",
   "id": "924d0d07",
   "metadata": {},
   "source": [
    "```{info}\n",
    "If an error occurs regarding not being able to pull down the LTS, you have not properly logged into the Docker Dameon. If unable, please ask for help!\n",
    "```"
   ]
  },
  {
   "cell_type": "markdown",
   "id": "1841d300",
   "metadata": {},
   "source": [
    "## Building Natively"
   ]
  },
  {
   "cell_type": "markdown",
   "id": "29ed91f2",
   "metadata": {},
   "source": [
    "Building the AIMM project natively is supported on all operating systems. \n",
    "\n",
    "```{info}\n",
    "For those who have Windows it is suggested to install [Windows Subsystem for Linux](https://learn.microsoft.com/en-us/windows/wsl/install), if you have reservations against that, please the AIMM team know and perhaps create a .bat script that will be able to build it alongside the current implementation.\n",
    "```\n",
    "\n",
    "All the dependencies for Unix and Darwin (MacOS) should have been installed via **brew** and **apt** regarding the installation instructions above. You can verify this, but running the install dependecy check again. Once done, simply type the following command to build it natively:"
   ]
  },
  {
   "cell_type": "markdown",
   "id": "f86a2f7a",
   "metadata": {},
   "source": []
  },
  {
   "cell_type": "code",
   "execution_count": null,
   "id": "c171b1ae",
   "metadata": {
    "vscode": {
     "languageId": "plaintext"
    }
   },
   "outputs": [],
   "source": [
    "$ ./CREATE --project-build"
   ]
  },
  {
   "cell_type": "markdown",
   "id": "da397a1e",
   "metadata": {},
   "source": [
    "```{seealso}\n",
    "Running the `CREATE` script with the argument -h or --help will display the help message. If you want to append *-r* for instance after *--project-build*, it will run the project build in release mode.\n",
    "```"
   ]
  },
  {
   "cell_type": "markdown",
   "id": "146e3b5f",
   "metadata": {},
   "source": [
    "After building the project successfuly and without any further arugments, you can simply run:"
   ]
  },
  {
   "cell_type": "code",
   "execution_count": null,
   "id": "4adf6ddc",
   "metadata": {
    "vscode": {
     "languageId": "plaintext"
    }
   },
   "outputs": [],
   "source": [
    "$ ./AIMM"
   ]
  },
  {
   "cell_type": "markdown",
   "id": "5952947c",
   "metadata": {},
   "source": [
    "That should run the exectubale found in the **/build** directory. Of note, there are alot of issues that can occur regarding dependencies and build enviornments. You must try debugging first to see if it is an issue that is easily solveable on your end, if it isn't please contact the others in the development team who can help regarding making the build system run natively.\n",
    "\n",
    "```{important}\n",
    "When building on the actual AIMM main computer, the project is always build in RELEASE mode and never in EARTHLY, this is to reduce the vector that can be caused by errors.\n",
    "```"
   ]
  },
  {
   "cell_type": "markdown",
   "id": "9255875b",
   "metadata": {},
   "source": [
    "## Building on Windows\n",
    "\n",
    "Building on Windows requires knowledge of WSL or Windows Subsystem for Linux. The more complicated part of this is integration with the Windows runtime, specifically passing files\n",
    "and data between the kerenel and the Windows system. WSL by default shares the networking characteristics of the main system you are running on, so there is no need to mess with ip tables, ports, or cross system resource management. You will need to manage the VS code integration and understand how the Linux kernel works.\n",
    "\n",
    "```{info}\n",
    "The following instructions for building the project on Windows requires an understanding of Linux and navigating via terminal. If this sounds intimidating to you, please understand it is not and a valuable skill - please reach out to anyone on the team to get a quick refresher.\n",
    "```"
   ]
  },
  {
   "cell_type": "markdown",
   "id": "059ba09c",
   "metadata": {},
   "source": [
    "WSL should be installed by default as it is a system extension based on the stock Windows install. Provided you did not do any further configuraiton with Windows, this should be straightforward to install a Linux sub-machine on your system.\n",
    "\n",
    "To start, go to your Windows search bar. In Windows 11 it is at the bottom with your taskbar, in Windows 10 it is to the left. Type within the Windows search bar **run**, you should see an application with a piece of blue mail speeding along called **Run**. Anyone who has had to modify %appdata% before should be familiar with this tool.\n",
    "\n",
    "Open run and in the box type (as always *$* by standard convention dictates a command and should not be included in putting your command into **Run**):"
   ]
  },
  {
   "cell_type": "code",
   "execution_count": null,
   "id": "10cff7d7",
   "metadata": {
    "vscode": {
     "languageId": "plaintext"
    }
   },
   "outputs": [],
   "source": [
    "$ powershell"
   ]
  },
  {
   "cell_type": "markdown",
   "id": "4337b96b",
   "metadata": {},
   "source": [
    "After you have typed the above command in, please go to the now opened Powershell prompt. Type the following command:"
   ]
  },
  {
   "cell_type": "code",
   "execution_count": null,
   "id": "ed8e3a46",
   "metadata": {
    "vscode": {
     "languageId": "plaintext"
    }
   },
   "outputs": [],
   "source": [
    "$ wsl --install"
   ]
  },
  {
   "cell_type": "markdown",
   "id": "636d9d1b",
   "metadata": {},
   "source": [
    "Let it configure your install. It will install the latest version of Ubunutu which is what Earthy CI/CD runs against in order to verify that the program will compile. Several prompts will pop up from UAC which will ask for elevated permissions. This is an entire kernel embedded within Windows syscalls, so it will need to be given administrator access. This is a Windows and Microsoft product, but if you feel uncomforable, that is understandable - you will not be able to build the code however.\n",
    "\n",
    "After configuring your install, you will need to restart your entire computer. After logging in, the system will ask for a UNIX username and password. I would suggest using the same one you use to access your standard Windows install, but choose something you will remember, it is needed. It should look like this:"
   ]
  },
  {
   "cell_type": "markdown",
   "id": "7c0e09dc",
   "metadata": {},
   "source": [
    "    Ubuntu is already installed.\n",
    "    Launching Ubuntu...\n",
    "    Installing, this may take a few minutes...\n",
    "    Please create a default UNIX user account. The username does not need to match your Windows username.\n",
    "    For more information visit: https://aka.ms/wslusers\n",
    "    Enter new UNIX username: *[your username]*\n",
    "    New password:\n",
    "    Retype new password:\n",
    "    passwd: password updated successfully\n",
    "    The operation completed successfully.\n",
    "    Installation successful!\n",
    "    To run a command as administrator (user \"root\"), use \"sudo <command>\".\n",
    "    See \"man sudo_root\" for details.\n",
    "    Welcome to Ubuntu 22.04.3 LTS (GNU/Linux 4.4.0-22621-Microsoft aarch64)\n",
    "\n",
    "    * Documentation:  https://help.ubuntu.com\n",
    "    * Management:     https://landscape.canonical.com\n",
    "    * Support:        https://ubuntu.com/advantage\n",
    "\n",
    "    This message is shown once a day. To disable it please create the\n",
    "    /home/rpaillet/.hushlogin file."
   ]
  },
  {
   "cell_type": "markdown",
   "id": "902f4cb7",
   "metadata": {},
   "source": [
    "After that, you now have a Linux install on Windows! Now for the integration with VS Code. Install VS code for your system, visit this site: https://code.visualstudio.com/Download"
   ]
  },
  {
   "cell_type": "markdown",
   "id": "2a4f9965",
   "metadata": {},
   "source": [
    "Once VS Code is installed with the system, go to the extensions tab (CTRL-SHIFT-X) and install the WSL extension (the link is here, however you need to install it from within VS code, you can not do it from this link): https://marketplace.visualstudio.com/items?itemName=ms-vscode-remote.remote-wsl\n",
    "\n",
    "After installing WSL in VS Code, go back and use **Run** to open Powershell. When you open powershell, put the following command on the command line (this uses sudo with elevated permissions to create a directory and modify it so any user can access it, it will ask for the password installed on UNIX):"
   ]
  },
  {
   "cell_type": "code",
   "execution_count": null,
   "id": "e1288b0f",
   "metadata": {
    "vscode": {
     "languageId": "plaintext"
    }
   },
   "outputs": [],
   "source": [
    "$ cd ../../../../ && sudo mkdir local && sudo chmod -R 777 local && cd local"
   ]
  },
  {
   "cell_type": "markdown",
   "id": "2ded6714",
   "metadata": {},
   "source": [
    "The above command will put you in a user-accessible directory. After this, accessing the WSL instance will be done through VS Code, so there will not be need to access it directly. However, all the code that is written will be put into this directory. Run the following command to initalize VS Code on the system inside the WSL instance after running the above command."
   ]
  },
  {
   "cell_type": "code",
   "execution_count": null,
   "id": "40ba2f27",
   "metadata": {
    "vscode": {
     "languageId": "plaintext"
    }
   },
   "outputs": [],
   "source": [
    "$ code ."
   ]
  },
  {
   "cell_type": "markdown",
   "id": "cfa246df",
   "metadata": {},
   "source": [
    "A lot of things will happen very quickly. The only thing you need to worry about is VS Code will create a new instance with at the top titled **local \\[WSL:Ubuntu\\]**. It will ask you, *Do you trust the authors of the files in this folder?*, you need to click the box: that states *Trust the authors of all files in the parent folder \"*\n",
    "\n",
    "Then click *Yes, I trust the authors*\n",
    "\n",
    "Congragulations! Linux is now installed and working with Windows on the computer. All files written in the VS Code instance will be put in /local/ and be accessible not as root! This does not mean however the configuration is done."
   ]
  }
 ],
 "metadata": {
  "kernelspec": {
   "display_name": "Python 3 (ipykernel)",
   "language": "python",
   "name": "python3"
  },
  "language_info": {
   "codemirror_mode": {
    "name": "ipython",
    "version": 3
   },
   "file_extension": ".py",
   "mimetype": "text/x-python",
   "name": "python",
   "nbconvert_exporter": "python",
   "pygments_lexer": "ipython3",
   "version": "3.10.13"
  },
  "vscode": {
   "interpreter": {
    "hash": "b6702b69e93007336b96338c5a331192f07cedff01d36d4dcfa0f842adb718ad"
   }
  }
 },
 "nbformat": 4,
 "nbformat_minor": 5
}
