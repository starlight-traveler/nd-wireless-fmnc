{
 "cells": [
  {
   "cell_type": "markdown",
   "metadata": {},
   "source": [
    "## Getting Started on Windows/Linux\n",
    "\n",
    "Building on Windows requires knowledge of WSL or Windows Subsystem for Linux. The more complicated part of this is integration with the Windows runtime, specifically passing files\n",
    "and data between the kerenel and the Windows system. WSL by default shares the networking characteristics of the main system you are running on, so there is no need to mess with ip tables, ports, or cross system resource management. You will need to manage the VS code integration and understand how the Linux kernel works.\n",
    "\n",
    "```{info}\n",
    "The following instructions for building the project on Windows requires an understanding of Linux and navigating via terminal. If this sounds intimidating to you, please understand it is not and a valuable skill - please reach out to anyone on the team to get a quick refresher.\n",
    "```"
   ]
  },
  {
   "cell_type": "markdown",
   "metadata": {},
   "source": [
    "WSL should be installed by default as it is a system extension based on the stock Windows install. Provided you did not do any further configuraiton with Windows, this should be straightforward to install a Linux sub-machine on your system.\n",
    "\n",
    "To start, go to your Windows search bar. In Windows 11 it is at the bottom with your taskbar, in Windows 10 it is to the left. Type within the Windows search bar **run**, you should see an application with a piece of blue mail speeding along called **Run**. Anyone who has had to modify %appdata% before should be familiar with this tool.\n",
    "\n",
    "Open run and in the box type (as always *$* by standard convention dictates a command and should not be included in putting your command into **Run**):"
   ]
  },
  {
   "cell_type": "code",
   "execution_count": null,
   "metadata": {
    "vscode": {
     "languageId": "plaintext"
    }
   },
   "outputs": [],
   "source": [
    "$ powershell"
   ]
  },
  {
   "cell_type": "markdown",
   "metadata": {},
   "source": [
    "After you have typed the above command in, please go to the now opened Powershell prompt. Type the following command:"
   ]
  },
  {
   "cell_type": "code",
   "execution_count": null,
   "metadata": {
    "vscode": {
     "languageId": "plaintext"
    }
   },
   "outputs": [],
   "source": [
    "$ wsl --install"
   ]
  },
  {
   "cell_type": "markdown",
   "metadata": {},
   "source": [
    "Let it configure your install. It will install the latest version of Ubunutu which is what Earthy CI/CD runs against in order to verify that the program will compile. Several prompts will pop up from UAC which will ask for elevated permissions. This is an entire kernel embedded within Windows syscalls, so it will need to be given administrator access. This is a Windows and Microsoft product, but if you feel uncomforable, that is understandable - you will not be able to build the code however.\n",
    "\n",
    "After configuring your install, you will need to restart your entire computer. After logging in, the system will ask for a UNIX username and password. I would suggest using the same one you use to access your standard Windows install, but choose something you will remember, it is needed. It should look like this:"
   ]
  },
  {
   "cell_type": "markdown",
   "metadata": {},
   "source": [
    "    Ubuntu is already installed.\n",
    "    Launching Ubuntu...\n",
    "    Installing, this may take a few minutes...\n",
    "    Please create a default UNIX user account. The username does not need to match your Windows username.\n",
    "    For more information visit: https://aka.ms/wslusers\n",
    "    Enter new UNIX username: *[your username]*\n",
    "    New password:\n",
    "    Retype new password:\n",
    "    passwd: password updated successfully\n",
    "    The operation completed successfully.\n",
    "    Installation successful!\n",
    "    To run a command as administrator (user \"root\"), use \"sudo <command>\".\n",
    "    See \"man sudo_root\" for details.\n",
    "    Welcome to Ubuntu 22.04.3 LTS (GNU/Linux 4.4.0-22621-Microsoft aarch64)\n",
    "\n",
    "    * Documentation:  https://help.ubuntu.com\n",
    "    * Management:     https://landscape.canonical.com\n",
    "    * Support:        https://ubuntu.com/advantage\n",
    "\n",
    "    This message is shown once a day. To disable it please create the\n",
    "    /home/rpaillet/.hushlogin file."
   ]
  },
  {
   "cell_type": "markdown",
   "metadata": {},
   "source": [
    "After that, you now have a Linux install on Windows! Now for the integration with VS Code. Install VS code for your system, visit this site: https://code.visualstudio.com/Download"
   ]
  },
  {
   "cell_type": "markdown",
   "metadata": {},
   "source": [
    "Once VS Code is installed with the system, go to the extensions tab (CTRL-SHIFT-X) and install the WSL extension (the link is here, however you need to install it from within VS code, you can not do it from this link): https://marketplace.visualstudio.com/items?itemName=ms-vscode-remote.remote-wsl\n",
    "\n",
    "After installing WSL in VS Code, go back and use **Run** to open Powershell. When you open powershell, put the following command on the command line (this uses sudo with elevated permissions to create a directory and modify it so any user can access it, it will ask for the password installed on UNIX):"
   ]
  },
  {
   "cell_type": "code",
   "execution_count": null,
   "metadata": {
    "vscode": {
     "languageId": "plaintext"
    }
   },
   "outputs": [],
   "source": [
    "$ cd ../../../../ && sudo mkdir local && sudo chmod -R 777 local && cd local"
   ]
  },
  {
   "cell_type": "markdown",
   "metadata": {},
   "source": [
    "The above command will put you in a user-accessible directory. After this, accessing the WSL instance will be done through VS Code, so there will not be need to access it directly. However, all the code that is written will be put into this directory. Run the following command to initalize VS Code on the system inside the WSL instance after running the above command."
   ]
  },
  {
   "cell_type": "code",
   "execution_count": null,
   "metadata": {
    "vscode": {
     "languageId": "plaintext"
    }
   },
   "outputs": [],
   "source": [
    "$ code ."
   ]
  },
  {
   "cell_type": "markdown",
   "metadata": {},
   "source": [
    "A lot of things will happen very quickly. The only thing you need to worry about is VS Code will create a new instance with at the top titled **local \\[WSL:Ubuntu\\]**. It will ask you, *Do you trust the authors of the files in this folder?*, you need to click the box: that states *Trust the authors of all files in the parent folder\"*!\n",
    "\n",
    "Then click *Yes, I trust the authors*!\n",
    "\n",
    "Congragulations! Linux is now installed and working with Windows on the computer. All files written in the VS Code instance will be put in /local/ and be accessible not as root! This does not mean however the configuration is done."
   ]
  },
  {
   "cell_type": "markdown",
   "metadata": {},
   "source": [
    "In the new VS Code window that gets initalized titled **local \\[WSL:Ubuntu\\]** at the top, please open a new terminal. This can be done via tab on the top left called *Terminal* or the three dots *...*, and then clicking *Terminal*, then clicking *New Terminal*.\n",
    "\n",
    "At the bottom of the screen a new terminal should be created, bringing you into the /local/ folder you created earlier. See:"
   ]
  },
  {
   "cell_type": "code",
   "execution_count": null,
   "metadata": {
    "vscode": {
     "languageId": "plaintext"
    }
   },
   "outputs": [],
   "source": [
    "$ username@USER3A04:/local$ "
   ]
  },
  {
   "cell_type": "markdown",
   "metadata": {},
   "source": [
    "Then you want to follow the following instructions to create the development enviornment. \n",
    "\n",
    "## Setting up the Repository\n",
    "\n",
    "The repositories are hosted on publicly accessible GitHub servers. The structure consists of a master repository where all Notre Dame AIMM code is stored, with “submodules” as additional repositories linked to other GitHub repositories. You don't need to know the exact details at this point; just make sure you have Git installed and clone the main repository:"
   ]
  },
  {
   "cell_type": "code",
   "execution_count": null,
   "metadata": {
    "vscode": {
     "languageId": "plaintext"
    }
   },
   "outputs": [],
   "source": [
    "$ git clone https://github.com/starlight-traveler/nd-aimm.git"
   ]
  },
  {
   "cell_type": "markdown",
   "metadata": {},
   "source": [
    "Once finished you will notice that you don't actually have any data within the submodules! These submodules are separate GitHub repositories and need to be explicitly pulled. Run the following commands:"
   ]
  },
  {
   "cell_type": "code",
   "execution_count": null,
   "metadata": {
    "vscode": {
     "languageId": "plaintext"
    }
   },
   "outputs": [],
   "source": [
    "$ cd nd-aimm\n",
    "$ git submodule update --init --recursive"
   ]
  },
  {
   "cell_type": "markdown",
   "metadata": {},
   "source": [
    "This will update the submodules and pull in all necessary data. Note that committing changes inside a submodule, for instance in nd-aimm-main-computer, and pushing to its remote will update that repository, but not the main nd-aimm repository. A CI/CD cron job updates the main repository daily, but you can manually update it by committing and pushing to the main branch in the nd-aimm directory or by pulling the latest changes.\n",
    "\n",
    "```{tip}\n",
    "The main repository does not need frequent updates as it primarily serves as a central hub for all submodules, rather than as a point for external pushes.\n",
    "```"
   ]
  },
  {
   "cell_type": "markdown",
   "metadata": {},
   "source": [
    "Now that you have cloned the entire repository, now the dependencies need to be installed and configured for the install. Lets install the correct dependencies, that can be done via the following commands."
   ]
  },
  {
   "cell_type": "code",
   "execution_count": null,
   "metadata": {
    "vscode": {
     "languageId": "plaintext"
    }
   },
   "outputs": [],
   "source": [
    "$ cd nd-aimm-main-computer\n",
    "$ ./CREATE --install-dependencies"
   ]
  },
  {
   "cell_type": "markdown",
   "metadata": {},
   "source": [
    "This will automatically use *sudo* and *apt* to install the correct packages, it will ask for the current password to elevate the install. This is normal, and the password does not leave the system.\n",
    "\n",
    "The following dependencies are installed (there will be a cmake system that will run, let it occur):\n",
    "\n",
    "    build-essential \\\n",
    "    cmake \\\n",
    "    git \\\n",
    "    libopencv-dev \\\n",
    "    gcc \\\n",
    "    g++ \\\n",
    "    clang \\\n",
    "    lcov \\\n",
    "    doxygen \\\n",
    "    graphviz \\\n",
    "    expect-dev \\\n",
    "    libwayland-dev \\\n",
    "    wayland-protocols \\\n",
    "    libwayland-egl-backend-dev \\\n",
    "    libxkbcommon-dev \\\n",
    "    libegl1-mesa-dev \\\n",
    "    xorg \\\n",
    "    openbox \\\n",
    "    libxrandr-dev \\\n",
    "    libxinerama-dev \\\n",
    "    libxcursor-dev \\\n",
    "    libxi-dev \\\n",
    "    python3.10 \\\n",
    "    python3.10-dev \\"
   ]
  },
  {
   "cell_type": "markdown",
   "metadata": {},
   "source": [
    "Once that finishes installing (it will take a while), let us run the build program for the first time! Run:"
   ]
  },
  {
   "cell_type": "code",
   "execution_count": null,
   "metadata": {
    "vscode": {
     "languageId": "plaintext"
    }
   },
   "outputs": [],
   "source": [
    "$ ./CREATE --build-project"
   ]
  },
  {
   "cell_type": "markdown",
   "metadata": {},
   "source": [
    "The program should compile, if it runs into an error at the Wayland support then congragulations on coming across your first error! If you got passed the Wayland error then go down to the \"Now the libraries files...\" section of this document."
   ]
  },
  {
   "cell_type": "markdown",
   "metadata": {},
   "source": [
    "The problem with Wayland is likely the following:\n",
    "\n",
    "    -- Found OpenGL: /usr/lib/aarch64-linux-gnu/libOpenGL.so   \n",
    "    -- Including Wayland support\n",
    "    -- Including X11 support\n",
    "    -- Looking for memfd_create\n",
    "    -- Looking for memfd_create - found\n",
    "    -- Checking for modules 'wayland-client>=0.2.7;wayland-cursor>=0.2.7;wayland-egl>=0.2.7;xkbcommon>=0.5.0'\n",
    "    --   No package 'wayland-client' found\n",
    "    --   No package 'wayland-cursor' found\n",
    "    --   No package 'wayland-egl' found\n",
    "    --   No package 'xkbcommon' found\n",
    "    CMake Error at /usr/share/cmake-3.22/Modules/FindPkgConfig.cmake:603 (message):\n",
    "    A required package was not found\n",
    "    Call Stack (most recent call first):\n",
    "    /usr/share/cmake-3.22/Modules/FindPkgConfig.cmake:825 (_pkg_check_modules_internal)\n",
    "    lib/glfw/src/CMakeLists.txt:164 (pkg_check_modules)\n",
    "\n",
    "This problem is created by the problem of the path not being included. This is common with dependecies and the reason the why the Cmake is an abomination as it is. This could be fixed in Cmake with a few dozen lines, but this is a good learning oppurtunity to fix this in something called a bashrc.\n",
    "\n",
    "A bashrc is what the shell (that is the terminal) that is run everytime a terminal is opened. All the enviornment information is located there. It just so happens that there is an export qualifer missing that solves the above issue. Do the following:\n"
   ]
  },
  {
   "cell_type": "code",
   "execution_count": null,
   "metadata": {
    "vscode": {
     "languageId": "plaintext"
    }
   },
   "outputs": [],
   "source": [
    "$ nano ~/.bashrc"
   ]
  },
  {
   "cell_type": "markdown",
   "metadata": {},
   "source": [
    "Nano is an interactive GUI terminal editor. There is no using your mouse with this, scroll down to the bottom by pressing the down arrow until you reach it. Go past all the other enviornment information and at the very bottom of the file type the following in:"
   ]
  },
  {
   "cell_type": "code",
   "execution_count": null,
   "metadata": {
    "vscode": {
     "languageId": "plaintext"
    }
   },
   "outputs": [],
   "source": [
    "$ export PKG_CONFIG_PATH=/usr/lib/pkgconfig:/usr/share/pkgconfig:/usr/local/lib/pkgconfig:$PKG_CONFIG_PATH"
   ]
  },
  {
   "cell_type": "markdown",
   "metadata": {},
   "source": [
    "Type that into the nano terminal. In order to save and exit, press CTRL-O to Write Out the file, press ENTER to save it. Press CTRL-X to leave. The file is written, however the terminal has no idea that the bashrc just changed. Fix that:"
   ]
  },
  {
   "cell_type": "code",
   "execution_count": null,
   "metadata": {
    "vscode": {
     "languageId": "plaintext"
    }
   },
   "outputs": [],
   "source": [
    "$ source ~/.bashrc"
   ]
  },
  {
   "cell_type": "markdown",
   "metadata": {},
   "source": [
    "The source terminal shell allows a bashrc to repopulate and pull all the enviornment variables that were just changed into the current shell. Now rerun the command again:"
   ]
  },
  {
   "cell_type": "code",
   "execution_count": null,
   "metadata": {
    "vscode": {
     "languageId": "plaintext"
    }
   },
   "outputs": [],
   "source": [
    "$ ./CREATE --build-project"
   ]
  },
  {
   "cell_type": "markdown",
   "metadata": {},
   "source": [
    "It will likely error out, however the Wayland library should be found."
   ]
  },
  {
   "cell_type": "markdown",
   "metadata": {},
   "source": [
    "Now in a different set of library files need to be modified to allow the build system to progress. This is a lesson that the compiler is your friend, lets take a look at what that means, run:"
   ]
  },
  {
   "cell_type": "code",
   "execution_count": null,
   "metadata": {
    "vscode": {
     "languageId": "plaintext"
    }
   },
   "outputs": [],
   "source": [
    "$ ./CREATE --build-project"
   ]
  },
  {
   "cell_type": "markdown",
   "metadata": {},
   "source": [
    "When the program is run the following error gets created:"
   ]
  },
  {
   "cell_type": "markdown",
   "metadata": {},
   "source": [
    "```   \n",
    "   In file included from /usr/include/aarch64-linux-gnu/bits/getopt_posix.h:27,\n",
    "                  from /usr/include/unistd.h:903,\n",
    "                  from /local/nd-aimm/nd-aimm-main-computer/lib/quill/quill/include/quill/core/ThreadUtilities.h:36,\n",
    "                  from /local/nd-aimm/nd-aimm-main-computer/lib/quill/quill/include/quill/core/ThreadContextManager.h:11,\n",
    "                  from /local/nd-aimm/nd-aimm-main-computer/lib/quill/quill/include/quill/Logger.h:17,\n",
    "                  from /local/nd-aimm/nd-aimm-main-computer/include/pipeline.h:4,\n",
    "                  from /local/nd-aimm/nd-aimm-main-computer/src/pipeline/oak_lr_pipeline.cpp:6:\n",
    "   /usr/include/aarch64-linux-gnu/bits/getopt_core.h:91:12: error: declaration of ‘int getopt(int, char* const*, const char*) noexcept’ has a different exception specifier\n",
    "      91 | extern int getopt (int ___argc, char *const *___argv, const char *__shortopts)\n",
    "         |            ^~~~~~\n",
    "   In file included from /local/nd-aimm/nd-aimm-main-computer/src/pipeline/oak_lr_pipeline.cpp:4:\n",
    "   /local/nd-aimm/nd-aimm-main-computer/lib/glfw/deps/getopt.h:48:5: note: from previous declaration ‘int getopt(int, char* const*, const char*)’\n",
    "      48 | int getopt(int argc, char* const argv[], const char* optstring);\n",
    "         |     ^~~~~~\n",
    "```        "
   ]
  },
  {
   "cell_type": "markdown",
   "metadata": {},
   "source": [
    "This is a standard C++ error. What do you think is wrong? How can you find out was wrong?\n",
    "\n",
    "Errors like these are kind of obscure and use vague language given how the systems occur. This is a problem with a simple redefinition of a prototype function. There are two calls to getopt in two seperate libraries that are not using namespaces, now it is needed to fix them.\n",
    "\n",
    "Notice how the errors are also not at the bottom of the terminal. This is common, especially with multi-core compiling which is how the current ./CREATE is built as.\n",
    "\n",
    "To fix this open: nd-aimm/nd-aimm-main-computer/lib/glfw/deps/getopt.h"
   ]
  },
  {
   "cell_type": "markdown",
   "metadata": {},
   "source": [
    "Do this on the left hand side, and navigate through the folders to the header. Once at the header edit line 48, the one that says:"
   ]
  },
  {
   "cell_type": "code",
   "execution_count": null,
   "metadata": {
    "vscode": {
     "languageId": "plaintext"
    }
   },
   "outputs": [],
   "source": [
    "int getopt(int argc, char* const argv[], const char* optstring);"
   ]
  },
  {
   "cell_type": "markdown",
   "metadata": {},
   "source": [
    "At the end of the function you need to match the one in Quill which according to the error message is declared as:"
   ]
  },
  {
   "cell_type": "code",
   "execution_count": null,
   "metadata": {
    "vscode": {
     "languageId": "plaintext"
    }
   },
   "outputs": [],
   "source": [
    "int getopt(int, char* const*, const char*) noexcept;"
   ]
  },
  {
   "cell_type": "markdown",
   "metadata": {},
   "source": [
    "Do you see the **noexcept** prototype at the end of the function prototype? That declared that the function getopt will not return any exceptions. The getopt in glfw also does not return any exceptions, so simply add to line 48, **noexcept**."
   ]
  },
  {
   "cell_type": "code",
   "execution_count": null,
   "metadata": {
    "vscode": {
     "languageId": "plaintext"
    }
   },
   "outputs": [],
   "source": [
    "int getopt(int argc, char* const argv[], const char* optstring) noexcept;"
   ]
  },
  {
   "cell_type": "markdown",
   "metadata": {},
   "source": [
    "Then compile the project. This should be the final error and the system should compile. In order to run the program either do (1) if you want to run the program whenever it is needed or attach the flag (2) to run it after compiling.\n",
    "\n",
    "It is highly suggested you add the --headless flag when compiling. Only Mac users and rarely at that can use it without --headless"
   ]
  },
  {
   "cell_type": "code",
   "execution_count": null,
   "metadata": {
    "vscode": {
     "languageId": "plaintext"
    }
   },
   "outputs": [],
   "source": [
    "$ (1) ./CREATE --build-project --headless -r\n",
    "$ (2) ./AIMM (after compiling in headless mode)"
   ]
  },
  {
   "cell_type": "markdown",
   "metadata": {},
   "source": [
    "## Connecting to the GUI"
   ]
  },
  {
   "cell_type": "markdown",
   "metadata": {},
   "source": [
    "In order to connect to the GUI it is necessary to install the GUI server onto the host side of the Windows install.\n",
    "\n",
    "```{important}\n",
    "The host program needs to be installed on the Windows side. Do not install it on the Linux side. The Linux client connects to the Windows server. This is necessary for it to work.\n",
    "```\n",
    "\n",
    "They are in this repository, specifically: **/servers/**\n",
    "\n",
    "If on a Windows install use the one titled *AIMMServerWin.exe* by right clicking the .exe file in the folder, navigate to the \"Download\" option and copy it to Windows, perhaps in Documents or a specific folder.\n",
    "\n",
    "Double click the exe to run and the program is running!\n"
   ]
  }
 ],
 "metadata": {
  "language_info": {
   "name": "python"
  }
 },
 "nbformat": 4,
 "nbformat_minor": 2
}
